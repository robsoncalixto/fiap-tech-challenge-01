{
 "cells": [
  {
   "cell_type": "markdown",
   "id": "9e0843e2",
   "metadata": {},
   "source": [
    "# Pós Tech Fiap - Tech Challenge Fase 1\n",
    "**Aplicando Modelo de regressão linear para Previsão de Custos Médicos**\n",
    "**Grupo 56**\n",
    "* Araguacy Bezerra Pereira    RM362367\n",
    "* Emerson Vitorio de Oliveira RM362731\n",
    "* Robson Carvalho Calixto     RM362870\n",
    "* Vinicius Fernando M. Costa  RM363007"
   ]
  },
  {
   "cell_type": "markdown",
   "id": "d4d73414",
   "metadata": {},
   "source": [
    "## Sumário\n",
    "1. [Configuraçãodo Projeto](#1---configuração-do-projeto)\n",
    "2. [Definição do Problema](#2---definição-do-problema-de-negócio)\n",
    "3. [Carregamento e Análise Descritiva dos Dados](#2---carregamento-e-análise-descritiva-dos-dados)\n",
    "4. [Análise Exploratória](#3---análise-exploratória)\n",
    "5. [Modelagem](#4---modelagem)\n",
    "6. [Deploy do Modelo](#5---deploy-do-modelo)"
   ]
  },
  {
   "cell_type": "markdown",
   "id": "f284ddfb",
   "metadata": {},
   "source": [
    "# 1 - Configuração do Projeto"
   ]
  },
  {
   "cell_type": "code",
   "execution_count": 35,
   "id": "c249f53e",
   "metadata": {},
   "outputs": [],
   "source": [
    "import pandas as pd\n",
    "import numpy as np\n",
    "from scipy.stats import shapiro, ttest_ind, mannwhitneyu, kruskal, f_oneway, norm, pearsonr, spearmanr\n",
    "import seaborn as sns\n",
    "import matplotlib.pyplot as plt"
   ]
  },
  {
   "cell_type": "markdown",
   "id": "87bb7fef",
   "metadata": {},
   "source": [
    "Informações do ambiente de execução"
   ]
  },
  {
   "cell_type": "code",
   "execution_count": 36,
   "id": "30e9cf24",
   "metadata": {},
   "outputs": [
    {
     "name": "stdout",
     "output_type": "stream",
     "text": [
      "Versão da Linguagem Python Usada Neste Jupyter Notebook: 3.12.2\n",
      "\n",
      "Author: Bibliotecas Utilizadas\n",
      "\n",
      "pandas    : 2.2.3\n",
      "seaborn   : 0.13.2\n",
      "matplotlib: 3.9.2\n",
      "scipy     : 1.13.1\n",
      "numpy     : 1.26.4\n",
      "platform  : 1.0.8\n",
      "\n"
     ]
    }
   ],
   "source": [
    "from platform import python_version\n",
    "print('Versão da Linguagem Python Usada Neste Jupyter Notebook:', python_version())\n",
    "print('')\n",
    "\n",
    "%reload_ext watermark\n",
    "%watermark -a \"Bibliotecas Utilizadas\" --iversions"
   ]
  },
  {
   "cell_type": "markdown",
   "id": "20a75f3f",
   "metadata": {},
   "source": [
    "Configuração dos gráficos para visualizar no notebook e ignorar avisos"
   ]
  },
  {
   "cell_type": "code",
   "execution_count": 37,
   "id": "a5c19b16",
   "metadata": {},
   "outputs": [],
   "source": [
    "import warnings\n",
    "warnings.filterwarnings('ignore')\n",
    "sns.set_theme(style = \"whitegrid\")\n",
    "%matplotlib inline"
   ]
  },
  {
   "cell_type": "markdown",
   "id": "bc00d4fd",
   "metadata": {},
   "source": [
    "# 2-Definição do Problema de negócio\n",
    "\n",
    "O objetivo do projeto é prever o custo médico de um cliente baseado em dados de saúde, para isso utilizamos o dataset disponível no \n",
    "[Kaggle](https://www.kaggle.com/code/keremkarayaz/medical-insurance-prediction-94/input). Separamos a exploração do dataset em duas etapas: a primeira etapa é a análise descritiva e a segunda etapa é a análise exploratória. Usamos perguntas para guia as análises, afim de entender melhor o problema e as relações entre as variáveis e o preço do plano de saúde.\n",
    "\n",
    "### Dicionário de dados\n",
    "\n",
    "- Age - Idade do cliente\n",
    "- Diabetes - Se a pessoa tem níveis anormais de açúcar no sangue\n",
    "- BloodPressureProblems - Se a pessoa tem níveis anormais de pressão arterial\n",
    "- AnyTransplants - Qualquer transplante de órgão importante\n",
    "- AnyChronicDiseases - Se o cliente sofre de doenças crônicas\n",
    "- Height - Altura do cliente\n",
    "- Weight - Peso do Cliente\n",
    "- KnownAllergies - Se o cliente tem alguma alergia conhecida\n",
    "- HistoryOfCancerInFamily - Se algum parente consanguíneo do cliente teve algum tipo de câncer\n",
    "- NumberOfMajorSurgeries - O número de cirurgias importantes que a pessoa passou\n",
    "- PremiumPrice - Preço Premium Anual\n",
    "\n",
    "### Análise dos dados\n",
    "Durante a análise exploratória, procuramos responder algumas perguntas sobre a população em geral. Procurando entender as principais características da população e as relações entre as variáveis e o preço do plano de saúde.\n",
    "\n",
    "- Qual é a distribuição etária dos indivíduos?\n",
    "- Qual é a média, mediana e desvio padrão do preço do plano de saúde?\n",
    "- Qual é o percentual de pessoas com:\n",
    "    - Diabetes (Diabetes)\n",
    "    - Problemas de pressão (BloodPressureProblems)\n",
    "    - Doenças crônicas (AnyChronicDiseases)\n",
    "    - Histórico de câncer na família (HistoryOfCancerInFamily)\n",
    "    - Transplantes (AnyTransplants)\n",
    "- Qual é o IMC médio da população (IMC = peso / altura²)?\n",
    "- Qual o percentual de pacientes com sobrepeso ou obesidade (com base no IMC)?\n",
    "- Qual é a média de PremiumPrice por faixa etária (ex: 18–25, 26–35, etc)?\n",
    "- Como PremiumPrice varia entre quem tem e não tem condições clínicas específicas?\n",
    "- Há valores nulos ou inconsistentes em variáveis críticas?\n",
    "- Existem outliers extremos no PremiumPrice ou nos dados antropométricos?\n",
    "- PremiumPrice varia significativamente com a idade?\n",
    "- Pacientes com múltiplas comorbidades têm prêmios mais altos?\n",
    "- Há diferença o preço do plano de saúde entre pessoas com e sem histórico familiar de câncer?\n",
    "- Quais faixas etárias concentram os maiores valores de prêmio?\n",
    "- Quais combinações de condições (ex: diabetes + hipertensão) ocorrem com mais frequência?\n",
    "- O valor do prêmio parece seguir uma tendência linear ou não-linear com idade/IMC?\n",
    "- Há limitações no dataset, e quais são?"
   ]
  },
  {
   "cell_type": "markdown",
   "id": "19159805",
   "metadata": {},
   "source": [
    "# 2 - Carregamento e Análise Descritiva dos Dados"
   ]
  },
  {
   "cell_type": "code",
   "execution_count": 38,
   "id": "16d8979e",
   "metadata": {},
   "outputs": [
    {
     "data": {
      "text/plain": [
       "(986, 11)"
      ]
     },
     "execution_count": 38,
     "metadata": {},
     "output_type": "execute_result"
    }
   ],
   "source": [
    "df_original = pd.read_csv(\"data/Medicalpremium.csv\")\n",
    "df_original.shape"
   ]
  },
  {
   "cell_type": "code",
   "execution_count": 39,
   "id": "cb9d7b62",
   "metadata": {},
   "outputs": [
    {
     "data": {
      "text/html": [
       "<div>\n",
       "<style scoped>\n",
       "    .dataframe tbody tr th:only-of-type {\n",
       "        vertical-align: middle;\n",
       "    }\n",
       "\n",
       "    .dataframe tbody tr th {\n",
       "        vertical-align: top;\n",
       "    }\n",
       "\n",
       "    .dataframe thead th {\n",
       "        text-align: right;\n",
       "    }\n",
       "</style>\n",
       "<table border=\"1\" class=\"dataframe\">\n",
       "  <thead>\n",
       "    <tr style=\"text-align: right;\">\n",
       "      <th></th>\n",
       "      <th>Age</th>\n",
       "      <th>Diabetes</th>\n",
       "      <th>BloodPressureProblems</th>\n",
       "      <th>AnyTransplants</th>\n",
       "      <th>AnyChronicDiseases</th>\n",
       "      <th>Height</th>\n",
       "      <th>Weight</th>\n",
       "      <th>KnownAllergies</th>\n",
       "      <th>HistoryOfCancerInFamily</th>\n",
       "      <th>NumberOfMajorSurgeries</th>\n",
       "      <th>PremiumPrice</th>\n",
       "    </tr>\n",
       "  </thead>\n",
       "  <tbody>\n",
       "    <tr>\n",
       "      <th>0</th>\n",
       "      <td>45</td>\n",
       "      <td>0</td>\n",
       "      <td>0</td>\n",
       "      <td>0</td>\n",
       "      <td>0</td>\n",
       "      <td>155</td>\n",
       "      <td>57</td>\n",
       "      <td>0</td>\n",
       "      <td>0</td>\n",
       "      <td>0</td>\n",
       "      <td>25000</td>\n",
       "    </tr>\n",
       "    <tr>\n",
       "      <th>1</th>\n",
       "      <td>60</td>\n",
       "      <td>1</td>\n",
       "      <td>0</td>\n",
       "      <td>0</td>\n",
       "      <td>0</td>\n",
       "      <td>180</td>\n",
       "      <td>73</td>\n",
       "      <td>0</td>\n",
       "      <td>0</td>\n",
       "      <td>0</td>\n",
       "      <td>29000</td>\n",
       "    </tr>\n",
       "    <tr>\n",
       "      <th>2</th>\n",
       "      <td>36</td>\n",
       "      <td>1</td>\n",
       "      <td>1</td>\n",
       "      <td>0</td>\n",
       "      <td>0</td>\n",
       "      <td>158</td>\n",
       "      <td>59</td>\n",
       "      <td>0</td>\n",
       "      <td>0</td>\n",
       "      <td>1</td>\n",
       "      <td>23000</td>\n",
       "    </tr>\n",
       "    <tr>\n",
       "      <th>3</th>\n",
       "      <td>52</td>\n",
       "      <td>1</td>\n",
       "      <td>1</td>\n",
       "      <td>0</td>\n",
       "      <td>1</td>\n",
       "      <td>183</td>\n",
       "      <td>93</td>\n",
       "      <td>0</td>\n",
       "      <td>0</td>\n",
       "      <td>2</td>\n",
       "      <td>28000</td>\n",
       "    </tr>\n",
       "    <tr>\n",
       "      <th>4</th>\n",
       "      <td>38</td>\n",
       "      <td>0</td>\n",
       "      <td>0</td>\n",
       "      <td>0</td>\n",
       "      <td>1</td>\n",
       "      <td>166</td>\n",
       "      <td>88</td>\n",
       "      <td>0</td>\n",
       "      <td>0</td>\n",
       "      <td>1</td>\n",
       "      <td>23000</td>\n",
       "    </tr>\n",
       "  </tbody>\n",
       "</table>\n",
       "</div>"
      ],
      "text/plain": [
       "   Age  Diabetes  BloodPressureProblems  AnyTransplants  AnyChronicDiseases  \\\n",
       "0   45         0                      0               0                   0   \n",
       "1   60         1                      0               0                   0   \n",
       "2   36         1                      1               0                   0   \n",
       "3   52         1                      1               0                   1   \n",
       "4   38         0                      0               0                   1   \n",
       "\n",
       "   Height  Weight  KnownAllergies  HistoryOfCancerInFamily  \\\n",
       "0     155      57               0                        0   \n",
       "1     180      73               0                        0   \n",
       "2     158      59               0                        0   \n",
       "3     183      93               0                        0   \n",
       "4     166      88               0                        0   \n",
       "\n",
       "   NumberOfMajorSurgeries  PremiumPrice  \n",
       "0                       0         25000  \n",
       "1                       0         29000  \n",
       "2                       1         23000  \n",
       "3                       2         28000  \n",
       "4                       1         23000  "
      ]
     },
     "execution_count": 39,
     "metadata": {},
     "output_type": "execute_result"
    }
   ],
   "source": [
    "df_original.head()"
   ]
  },
  {
   "cell_type": "markdown",
   "id": "337d48fb",
   "metadata": {},
   "source": [
    "> Avaliando se existem valores ausentes no dataset"
   ]
  },
  {
   "cell_type": "code",
   "execution_count": 40,
   "id": "90837754",
   "metadata": {},
   "outputs": [
    {
     "data": {
      "text/plain": [
       "Age                        0\n",
       "Diabetes                   0\n",
       "BloodPressureProblems      0\n",
       "AnyTransplants             0\n",
       "AnyChronicDiseases         0\n",
       "Height                     0\n",
       "Weight                     0\n",
       "KnownAllergies             0\n",
       "HistoryOfCancerInFamily    0\n",
       "NumberOfMajorSurgeries     0\n",
       "PremiumPrice               0\n",
       "dtype: int64"
      ]
     },
     "execution_count": 40,
     "metadata": {},
     "output_type": "execute_result"
    }
   ],
   "source": [
    "df_original.isnull().sum().sort_values(ascending = False)"
   ]
  },
  {
   "cell_type": "markdown",
   "id": "c003abe3",
   "metadata": {},
   "source": [
    "> Avaliando a existência de duplicados."
   ]
  },
  {
   "cell_type": "code",
   "execution_count": 41,
   "id": "434ec4a9",
   "metadata": {},
   "outputs": [
    {
     "data": {
      "text/plain": [
       "0"
      ]
     },
     "execution_count": 41,
     "metadata": {},
     "output_type": "execute_result"
    }
   ],
   "source": [
    "df_original.duplicated().sum()"
   ]
  },
  {
   "cell_type": "code",
   "execution_count": 42,
   "id": "0f93f533",
   "metadata": {},
   "outputs": [
    {
     "data": {
      "text/html": [
       "<div>\n",
       "<style scoped>\n",
       "    .dataframe tbody tr th:only-of-type {\n",
       "        vertical-align: middle;\n",
       "    }\n",
       "\n",
       "    .dataframe tbody tr th {\n",
       "        vertical-align: top;\n",
       "    }\n",
       "\n",
       "    .dataframe thead th {\n",
       "        text-align: right;\n",
       "    }\n",
       "</style>\n",
       "<table border=\"1\" class=\"dataframe\">\n",
       "  <thead>\n",
       "    <tr style=\"text-align: right;\">\n",
       "      <th></th>\n",
       "      <th>Age</th>\n",
       "      <th>Height</th>\n",
       "      <th>Weight</th>\n",
       "      <th>NumberOfMajorSurgeries</th>\n",
       "      <th>PremiumPrice</th>\n",
       "    </tr>\n",
       "  </thead>\n",
       "  <tbody>\n",
       "    <tr>\n",
       "      <th>count</th>\n",
       "      <td>986.000000</td>\n",
       "      <td>986.000000</td>\n",
       "      <td>986.000000</td>\n",
       "      <td>986.000000</td>\n",
       "      <td>986.000000</td>\n",
       "    </tr>\n",
       "    <tr>\n",
       "      <th>mean</th>\n",
       "      <td>41.745436</td>\n",
       "      <td>168.182556</td>\n",
       "      <td>76.950304</td>\n",
       "      <td>0.667343</td>\n",
       "      <td>24336.713996</td>\n",
       "    </tr>\n",
       "    <tr>\n",
       "      <th>std</th>\n",
       "      <td>13.963371</td>\n",
       "      <td>10.098155</td>\n",
       "      <td>14.265096</td>\n",
       "      <td>0.749205</td>\n",
       "      <td>6248.184382</td>\n",
       "    </tr>\n",
       "    <tr>\n",
       "      <th>min</th>\n",
       "      <td>18.000000</td>\n",
       "      <td>145.000000</td>\n",
       "      <td>51.000000</td>\n",
       "      <td>0.000000</td>\n",
       "      <td>15000.000000</td>\n",
       "    </tr>\n",
       "    <tr>\n",
       "      <th>25%</th>\n",
       "      <td>30.000000</td>\n",
       "      <td>161.000000</td>\n",
       "      <td>67.000000</td>\n",
       "      <td>0.000000</td>\n",
       "      <td>21000.000000</td>\n",
       "    </tr>\n",
       "    <tr>\n",
       "      <th>50%</th>\n",
       "      <td>42.000000</td>\n",
       "      <td>168.000000</td>\n",
       "      <td>75.000000</td>\n",
       "      <td>1.000000</td>\n",
       "      <td>23000.000000</td>\n",
       "    </tr>\n",
       "    <tr>\n",
       "      <th>75%</th>\n",
       "      <td>53.000000</td>\n",
       "      <td>176.000000</td>\n",
       "      <td>87.000000</td>\n",
       "      <td>1.000000</td>\n",
       "      <td>28000.000000</td>\n",
       "    </tr>\n",
       "    <tr>\n",
       "      <th>max</th>\n",
       "      <td>66.000000</td>\n",
       "      <td>188.000000</td>\n",
       "      <td>132.000000</td>\n",
       "      <td>3.000000</td>\n",
       "      <td>40000.000000</td>\n",
       "    </tr>\n",
       "  </tbody>\n",
       "</table>\n",
       "</div>"
      ],
      "text/plain": [
       "              Age      Height      Weight  NumberOfMajorSurgeries  \\\n",
       "count  986.000000  986.000000  986.000000              986.000000   \n",
       "mean    41.745436  168.182556   76.950304                0.667343   \n",
       "std     13.963371   10.098155   14.265096                0.749205   \n",
       "min     18.000000  145.000000   51.000000                0.000000   \n",
       "25%     30.000000  161.000000   67.000000                0.000000   \n",
       "50%     42.000000  168.000000   75.000000                1.000000   \n",
       "75%     53.000000  176.000000   87.000000                1.000000   \n",
       "max     66.000000  188.000000  132.000000                3.000000   \n",
       "\n",
       "       PremiumPrice  \n",
       "count    986.000000  \n",
       "mean   24336.713996  \n",
       "std     6248.184382  \n",
       "min    15000.000000  \n",
       "25%    21000.000000  \n",
       "50%    23000.000000  \n",
       "75%    28000.000000  \n",
       "max    40000.000000  "
      ]
     },
     "execution_count": 42,
     "metadata": {},
     "output_type": "execute_result"
    }
   ],
   "source": [
    "df_original[['Age', 'Height','Weight','NumberOfMajorSurgeries','PremiumPrice']].describe()"
   ]
  },
  {
   "cell_type": "markdown",
   "id": "a07391c1",
   "metadata": {},
   "source": [
    "Observando os dados estatísticos, podemos concluir que há uma variação considerável entre os valores do plano de saúde, com um desvio padrão de R$ 6.248,18 que representa mais de 25% da média, indicando variação significativa. Também observamos que a média de idade dos indivíduos é de 41,75 anos, com uma idade mínima de 18 anos e máxima de 66 anos, nos indicando que o dataset possui baixa representatividade para menores de idade e idosos acima de 66 anos."
   ]
  },
  {
   "cell_type": "markdown",
   "id": "c849da4d",
   "metadata": {},
   "source": [
    "**Qual é a distribuição etária dos indivíduos?**\n",
    "\n",
    "Análise da distribuição etária dos indivíduos nos permite entender a composição da população em relação à idade. Como o valor do plano tende a ser influenciado pela idade, queremos garantir que não exista uma concentração de grupos etários, caso haja as análises podem ser enviesadas. \n",
    "\n",
    "O gráfico mostra que o dataset é formado majoritariamente por adultos de meia-idade, com boa cobertura entre 30 e 60 anos."
   ]
  },
  {
   "cell_type": "code",
   "execution_count": 70,
   "id": "801d6755",
   "metadata": {},
   "outputs": [
    {
     "data": {
      "image/png": "[encoded data removed]",
      "text/plain": [
       "<Figure size 1500x500 with 1 Axes>"
      ]
     },
     "metadata": {},
     "output_type": "display_data"
    }
   ],
   "source": [
    "plt.figure(figsize=(15, 5))\n",
    "sns.histplot(data=df_original['Age'], bins=30, kde=True)\n",
    "plt.title('Distribuição da idade')\n",
    "plt.xlabel('Idade')\n",
    "plt.ylabel('Frequência')\n",
    "plt.show()"
   ]
  },
  {
   "cell_type": "markdown",
   "id": "f59383db",
   "metadata": {},
   "source": [
    "**Qual é a média, mediana e desvio padrão do preço do plano de saúde?**"
   ]
  },
  {
   "cell_type": "code",
   "execution_count": 74,
   "id": "51c1f2ba",
   "metadata": {},
   "outputs": [
    {
     "data": {
      "image/png": "[encoded data removed]",
      "text/plain": [
       "<Figure size 1500x600 with 1 Axes>"
      ]
     },
     "metadata": {},
     "output_type": "display_data"
    }
   ],
   "source": [
    "data = df_original['PremiumPrice'].dropna()\n",
    "mu = data.mean()\n",
    "std = data.std()\n",
    "med = data.median()\n",
    "skewness = data.skew()\n",
    "kurt = data.kurtosis()\n",
    "\n",
    "plt.figure(figsize=(15, 6))\n",
    "count, bins, ignored = plt.hist(data, bins=20, density=False, color='skyblue',\n",
    "                                 edgecolor='black', alpha=0.7, label='Histograma')\n",
    "\n",
    "# Curva normal teórica\n",
    "x = np.linspace(min(bins), max(bins), 100)\n",
    "p = norm.pdf(x, mu, std)\n",
    "plt.plot(x, p, 'r-', linewidth=2, label='Curva Normal')\n",
    "\n",
    "# Linhas da média e mediana\n",
    "plt.axvline(mu, color='green', linestyle='--', linewidth=2, label='Média')\n",
    "plt.axvline(med, color='purple', linestyle='-.', linewidth=2, label='Mediana')\n",
    "\n",
    "# Outliers visuais (> 3 desvios)\n",
    "outliers = data[(data < mu - 3*std) | (data > mu + 3*std)]\n",
    "plt.scatter(outliers, [0]*len(outliers), color='red', zorder=5, label='Outliers (>3σ)')\n",
    "\n",
    "\n",
    "stats_text = '\\n'.join((\n",
    "    f'Média: {mu:,.2f}',\n",
    "    f'Mediana: {med:,.2f}',\n",
    "    f'Desvio Padrão: {std:,.2f}',\n",
    "    f'Assimetria: {skewness:.2f}',\n",
    "    f'Curtose: {kurt:.2f}'\n",
    "))\n",
    "props = dict(boxstyle='round', facecolor='white', alpha=0.8)\n",
    "plt.text(0.72, 0.95, stats_text, transform=plt.gca().transAxes, fontsize=10,\n",
    "         verticalalignment='top', bbox=props)\n",
    "\n",
    "plt.title('Distribuição da variável PremiumPrice') \n",
    "plt.xlabel('PremiumPrice')\n",
    "plt.ylabel('Frequência')\n",
    "plt.grid(alpha=0.3)\n",
    "plt.legend()\n",
    "plt.tight_layout()\n",
    "plt.show()"
   ]
  },
  {
   "cell_type": "markdown",
   "id": "6da43d5f",
   "metadata": {},
   "source": [
    "A variável PremiumPrice apresenta uma média de aproximadamente 24.336,71, enquanto a mediana é 23.000,00, indicando uma distribuição levemente assimétrica à direita (positiva), com presença de alguns valores mais altos que puxam a média para cima.\n",
    "\n",
    "O desvio padrão é de aproximadamente 6.248,18, o que revela uma dispersão moderada em torno da média, ou seja, os preços variam de forma relativamente ampla dentro do conjunto.\n",
    "\n",
    "Em resumo, a distribuição de PremiumPrice é quase simétrica, com leve influência de valores mais altos, e mostra uma variabilidade moderada, sem concentração excessiva no centro ou nas extremidades.\n",
    "\n",
    "O gráfico indica possíveis outliers, esses valores devem ser analisados com cuidado pois pode influenciar negativamente modelos preditivos sensíveis a valores extremos.\n"
   ]
  }
 ],
 "metadata": {
  "kernelspec": {
   "display_name": "Python (venv)",
   "language": "python",
   "name": "venv"
  },
  "language_info": {
   "codemirror_mode": {
    "name": "ipython",
    "version": 3
   },
   "file_extension": ".py",
   "mimetype": "text/x-python",
   "name": "python",
   "nbconvert_exporter": "python",
   "pygments_lexer": "ipython3",
   "version": "3.12.2"
  }
 },
 "nbformat": 4,
 "nbformat_minor": 5
}
